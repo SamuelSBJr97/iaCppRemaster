{
  "nbformat": 4,
  "nbformat_minor": 0,
  "metadata": {
    "colab": {
      "provenance": [],
      "mount_file_id": "1_OjPOMMSr6X9AvZbEwI35BbHD198rAwx",
      "authorship_tag": "ABX9TyO7hL8Jd1IkrUGf/K7ACrFm",
      "include_colab_link": true
    },
    "kernelspec": {
      "name": "python3",
      "display_name": "Python 3"
    },
    "language_info": {
      "name": "python"
    }
  },
  "cells": [
    {
      "cell_type": "markdown",
      "metadata": {
        "id": "view-in-github",
        "colab_type": "text"
      },
      "source": [
        "<a href=\"https://colab.research.google.com/github/SamuelSBJr97/iaCppRemaster/blob/main/iaCppRemaster.ipynb\" target=\"_parent\"><img src=\"https://colab.research.google.com/assets/colab-badge.svg\" alt=\"Open In Colab\"/></a>"
      ]
    },
    {
      "cell_type": "code",
      "source": [
        "# Instala biblitoecas\n",
        "!apt-get update && apt-get -y libopencv-dev python3-opencv build-essential ffmpeg libavcodec-dev libavformat-dev libswscale-dev\n",
        "\n",
        "# Clona projeto\n",
        "!git clone https://github.com/SamuelSBJr97/iaCppRemaster.git\n",
        "\n",
        "# Compila script\n",
        "!g++ -o iaCppRemaster/iaCppRemaster iaCppRemaster/src/iaCppRemaster.cpp `pkg-config --cflags --libs opencv4`\n",
        "\n",
        "# Testa o script gerado remasterizando um video de 8 segundos\n",
        "!iaCppRemaster/iaCppRemaster iaCppRemaster/assets/input.mkv iaCppRemaster/assets/output.mp4 iaCppRemaster/assets/opencv_super_resolution_EDSR_x4.pb edsr 4"
      ],
      "metadata": {
        "id": "zpox8QYfvlLO"
      },
      "execution_count": null,
      "outputs": []
    }
  ]
}